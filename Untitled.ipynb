{
 "cells": [
  {
   "cell_type": "code",
   "execution_count": 2,
   "id": "composed-baseline",
   "metadata": {},
   "outputs": [],
   "source": [
    "import sklearn\n",
    "import numpy as np"
   ]
  },
  {
   "cell_type": "code",
   "execution_count": 1,
   "id": "applied-warrant",
   "metadata": {},
   "outputs": [
    {
     "ename": "NameError",
     "evalue": "name 'np' is not defined",
     "output_type": "error",
     "traceback": [
      "\u001b[0;31m---------------------------------------------------------------------------\u001b[0m",
      "\u001b[0;31mNameError\u001b[0m                                 Traceback (most recent call last)",
      "\u001b[0;32m<ipython-input-1-85411057476a>\u001b[0m in \u001b[0;36m<module>\u001b[0;34m\u001b[0m\n\u001b[1;32m      1\u001b[0m \u001b[0;31m# data_dict = {\"boston\",\"iris\",\"diabetes\",\"digits\",\"linnerud\",\"wine\",\"\"}\u001b[0m\u001b[0;34m\u001b[0m\u001b[0;34m\u001b[0m\u001b[0;34m\u001b[0m\u001b[0m\n\u001b[1;32m      2\u001b[0m \u001b[0;31m# X,y = sklearn.datasets.fetch_california_housing(return_X_y=True)\u001b[0m\u001b[0;34m\u001b[0m\u001b[0;34m\u001b[0m\u001b[0;34m\u001b[0m\u001b[0m\n\u001b[0;32m----> 3\u001b[0;31m \u001b[0mnp\u001b[0m\u001b[0;34m.\u001b[0m\u001b[0msavetxt\u001b[0m\u001b[0;34m(\u001b[0m\u001b[0;34m\"./data/toy/X_test.csv\"\u001b[0m\u001b[0;34m,\u001b[0m \u001b[0mX\u001b[0m\u001b[0;34m,\u001b[0m \u001b[0mdelimiter\u001b[0m\u001b[0;34m=\u001b[0m\u001b[0;34m\",\"\u001b[0m\u001b[0;34m)\u001b[0m\u001b[0;34m\u001b[0m\u001b[0;34m\u001b[0m\u001b[0m\n\u001b[0m\u001b[1;32m      4\u001b[0m \u001b[0mnp\u001b[0m\u001b[0;34m.\u001b[0m\u001b[0msavetxt\u001b[0m\u001b[0;34m(\u001b[0m\u001b[0;34m\"./data/toy/y_test.csv\"\u001b[0m\u001b[0;34m,\u001b[0m \u001b[0my\u001b[0m\u001b[0;34m,\u001b[0m \u001b[0mdelimiter\u001b[0m\u001b[0;34m=\u001b[0m\u001b[0;34m\",\"\u001b[0m\u001b[0;34m)\u001b[0m\u001b[0;34m\u001b[0m\u001b[0;34m\u001b[0m\u001b[0m\n",
      "\u001b[0;31mNameError\u001b[0m: name 'np' is not defined"
     ]
    }
   ],
   "source": [
    "# data_dict = {\"boston\",\"iris\",\"diabetes\",\"digits\",\"linnerud\",\"wine\",\"\"}\n",
    "# X,y = sklearn.datasets.fetch_california_housing(return_X_y=True)\n",
    "# np.savetxt(\"./data/toy/X_test.csv\", X, delimiter=\",\")\n",
    "# np.savetxt(\"./data/toy/y_test.csv\", y, delimiter=\",\")"
   ]
  },
  {
   "cell_type": "code",
   "execution_count": 73,
   "id": "unlikely-contents",
   "metadata": {},
   "outputs": [],
   "source": [
    "n = 1000\n",
    "p = 40\n",
    "beta = np.random.rand(p,1)*10+10\n",
    "X  = np.random.rand(n,p)\n",
    "y = X@beta"
   ]
  },
  {
   "cell_type": "code",
   "execution_count": 74,
   "id": "conscious-reggae",
   "metadata": {},
   "outputs": [],
   "source": [
    "np.savetxt(\"./data/toy/X.csv\", X, delimiter=\",\")\n",
    "np.savetxt(\"./data/toy/y.csv\", y, delimiter=\",\")"
   ]
  },
  {
   "cell_type": "code",
   "execution_count": 177,
   "id": "worth-crazy",
   "metadata": {},
   "outputs": [],
   "source": [
    "beta_c = np.loadtxt(\"./data/toy/beta_c1.csv\",delimiter=\",\")\n",
    "# y = np.loadtxt(\"./data/toy/y.csv\",delimiter=\",\")"
   ]
  },
  {
   "cell_type": "code",
   "execution_count": 162,
   "id": "corrected-meter",
   "metadata": {},
   "outputs": [],
   "source": [
    "X = np.loadtxt(\"./data/toy/X.csv\",delimiter=\",\")\n",
    "y = np.loadtxt(\"./data/toy/y.csv\",delimiter=\",\")"
   ]
  },
  {
   "cell_type": "code",
   "execution_count": 55,
   "id": "diverse-stewart",
   "metadata": {},
   "outputs": [],
   "source": [
    "from sklearn.linear_model import Ridge"
   ]
  },
  {
   "cell_type": "code",
   "execution_count": 157,
   "id": "southern-ferry",
   "metadata": {},
   "outputs": [],
   "source": [
    "lm = Ridge(alpha = 1,fit_intercept=True)\n",
    "lm = lm.fit(X,y.reshape(-1))"
   ]
  },
  {
   "cell_type": "code",
   "execution_count": 158,
   "id": "polar-municipality",
   "metadata": {},
   "outputs": [
    {
     "data": {
      "text/plain": [
       "3.4347049029070718"
      ]
     },
     "execution_count": 158,
     "metadata": {},
     "output_type": "execute_result"
    }
   ],
   "source": [
    "lm.intercept_"
   ]
  },
  {
   "cell_type": "code",
   "execution_count": 178,
   "id": "compact-destiny",
   "metadata": {},
   "outputs": [
    {
     "data": {
      "text/plain": [
       "4.7057426293283805e-12"
      ]
     },
     "execution_count": 178,
     "metadata": {},
     "output_type": "execute_result"
    }
   ],
   "source": [
    "np.linalg.norm(np.array(list(lm.coef_)+[lm.intercept_])-beta_c)"
   ]
  },
  {
   "cell_type": "code",
   "execution_count": 180,
   "id": "healthy-multiple",
   "metadata": {},
   "outputs": [
    {
     "data": {
      "text/plain": [
       "3.43470490290677"
      ]
     },
     "execution_count": 180,
     "metadata": {},
     "output_type": "execute_result"
    }
   ],
   "source": [
    "beta_c[-1]"
   ]
  },
  {
   "cell_type": "code",
   "execution_count": 181,
   "id": "radical-gardening",
   "metadata": {},
   "outputs": [
    {
     "data": {
      "text/plain": [
       "3.4347049029070718"
      ]
     },
     "execution_count": 181,
     "metadata": {},
     "output_type": "execute_result"
    }
   ],
   "source": [
    "lm.intercept_"
   ]
  },
  {
   "cell_type": "code",
   "execution_count": 104,
   "id": "regulated-acrylic",
   "metadata": {},
   "outputs": [
    {
     "data": {
      "text/plain": [
       "7.510974478421209e-12"
      ]
     },
     "execution_count": 104,
     "metadata": {},
     "output_type": "execute_result"
    }
   ],
   "source": [
    "np.linalg.norm(np.array(list(lm.coef_))-beta_c)"
   ]
  },
  {
   "cell_type": "code",
   "execution_count": 163,
   "id": "framed-sphere",
   "metadata": {},
   "outputs": [],
   "source": [
    "X = np.append(X,np.ones(shape=(n,1)),axis=1)"
   ]
  },
  {
   "cell_type": "code",
   "execution_count": 164,
   "id": "going-opinion",
   "metadata": {},
   "outputs": [],
   "source": [
    "tmp = np.identity(n = X.shape[1])"
   ]
  },
  {
   "cell_type": "code",
   "execution_count": 175,
   "id": "living-shell",
   "metadata": {},
   "outputs": [],
   "source": [
    "tmp[-1][-1]=0"
   ]
  },
  {
   "cell_type": "code",
   "execution_count": 170,
   "id": "stuffed-leader",
   "metadata": {},
   "outputs": [
    {
     "data": {
      "text/plain": [
       "40"
      ]
     },
     "execution_count": 170,
     "metadata": {},
     "output_type": "execute_result"
    }
   ],
   "source": [
    "p"
   ]
  },
  {
   "cell_type": "code",
   "execution_count": 176,
   "id": "bottom-homeless",
   "metadata": {},
   "outputs": [
    {
     "data": {
      "text/plain": [
       "array([15.90530525, 12.35949327, 12.491684  , 13.39997761, 12.62873747,\n",
       "       16.74147143, 15.51154253, 11.35904718, 12.98866897, 19.27479026,\n",
       "       16.11098184, 16.88724215, 18.42309484, 19.12947718, 13.37281068,\n",
       "       12.98088714, 13.07532746, 15.02769649, 12.71364802, 15.94906035,\n",
       "       10.23612625, 17.95501946, 15.44393501, 12.3645103 , 13.49812924,\n",
       "       18.63344604, 15.83113663, 12.49946607, 11.84878224, 17.87734133,\n",
       "       19.28503497, 11.68056822, 14.73779003, 13.3719063 , 12.55379491,\n",
       "       13.26433287, 15.46633593, 16.82696727, 10.79315528, 12.94260718,\n",
       "        3.4347049 ])"
      ]
     },
     "execution_count": 176,
     "metadata": {},
     "output_type": "execute_result"
    }
   ],
   "source": [
    "np.linalg.inv(X.T@X+tmp)@X.T@y"
   ]
  },
  {
   "cell_type": "code",
   "execution_count": 103,
   "id": "diverse-disney",
   "metadata": {},
   "outputs": [
    {
     "data": {
      "text/plain": [
       "40"
      ]
     },
     "execution_count": 103,
     "metadata": {},
     "output_type": "execute_result"
    }
   ],
   "source": [
    "len(beta_c)"
   ]
  },
  {
   "cell_type": "code",
   "execution_count": 34,
   "id": "dominican-somerset",
   "metadata": {},
   "outputs": [],
   "source": [
    "! mkdir ./data/california_housing"
   ]
  },
  {
   "cell_type": "code",
   "execution_count": 37,
   "id": "intensive-honolulu",
   "metadata": {},
   "outputs": [],
   "source": [
    "import pandas as pd"
   ]
  },
  {
   "cell_type": "code",
   "execution_count": 69,
   "id": "radical-track",
   "metadata": {},
   "outputs": [],
   "source": [
    "X = np.random.rand(3,3)"
   ]
  },
  {
   "cell_type": "code",
   "execution_count": 71,
   "id": "military-pitch",
   "metadata": {},
   "outputs": [],
   "source": [
    "y = np.random.rand(3)"
   ]
  },
  {
   "cell_type": "code",
   "execution_count": 72,
   "id": "outside-newman",
   "metadata": {},
   "outputs": [
    {
     "data": {
      "text/plain": [
       "array([0.20434047, 0.63915935, 0.22042017])"
      ]
     },
     "execution_count": 72,
     "metadata": {},
     "output_type": "execute_result"
    }
   ],
   "source": [
    "y"
   ]
  },
  {
   "cell_type": "code",
   "execution_count": null,
   "id": "geographic-issue",
   "metadata": {},
   "outputs": [],
   "source": []
  }
 ],
 "metadata": {
  "kernelspec": {
   "display_name": "Python 3",
   "language": "python",
   "name": "python3"
  },
  "language_info": {
   "codemirror_mode": {
    "name": "ipython",
    "version": 3
   },
   "file_extension": ".py",
   "mimetype": "text/x-python",
   "name": "python",
   "nbconvert_exporter": "python",
   "pygments_lexer": "ipython3",
   "version": "3.9.2"
  }
 },
 "nbformat": 4,
 "nbformat_minor": 5
}

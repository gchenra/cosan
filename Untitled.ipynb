{
 "cells": [
  {
   "cell_type": "code",
   "execution_count": 2,
   "id": "heavy-rouge",
   "metadata": {},
   "outputs": [],
   "source": [
    "import sklearn\n",
    "import numpy as np\n",
    "import csv"
   ]
  },
  {
   "cell_type": "code",
   "execution_count": 1,
   "id": "demographic-percentage",
   "metadata": {},
   "outputs": [],
   "source": [
    "# data_dict = {\"boston\",\"iris\",\"diabetes\",\"digits\",\"linnerud\",\"wine\",\"\"}\n",
    "# X,y = sklearn.datasets.fetch_california_housing(return_X_y=True)\n",
    "# np.savetxt(\"./data/toy/X_test.csv\", X, delimiter=\",\")\n",
    "# np.savetxt(\"./data/toy/y_test.csv\", y, delimiter=\",\")"
   ]
  },
  {
   "cell_type": "code",
   "execution_count": 14,
   "id": "handled-duncan",
   "metadata": {},
   "outputs": [],
   "source": [
    "with open(\"./example_data/toy2/X_2.csv\", \"w\") as f:\n",
    "    writer = csv.writer(f,delimiter=',', quotechar='\\'', quoting=csv.QUOTE_MINIMAL, lineterminator='\\n')\n",
    "    writer.writerows(X)"
   ]
  },
  {
   "cell_type": "code",
   "execution_count": 3,
   "id": "homeless-shaft",
   "metadata": {},
   "outputs": [],
   "source": [
    "n = 100\n",
    "p = 10\n",
    "beta = np.random.rand(p,1)*10+10\n",
    "X  = np.random.rand(n,p)\n",
    "y = X@beta\n",
    "X[50:53,0]=np.nan\n",
    "X[67,1]=np.nan\n",
    "X[97,2]=np.nan\n",
    "X = X.tolist()"
   ]
  },
  {
   "cell_type": "code",
   "execution_count": 1,
   "id": "paperback-career",
   "metadata": {},
   "outputs": [
    {
     "data": {
      "text/plain": [
       "2.154434690031884"
      ]
     },
     "execution_count": 1,
     "metadata": {},
     "output_type": "execute_result"
    }
   ],
   "source": [
    "(1+1+8)**(1/3)"
   ]
  },
  {
   "cell_type": "code",
   "execution_count": null,
   "id": "tender-template",
   "metadata": {},
   "outputs": [],
   "source": []
  },
  {
   "cell_type": "code",
   "execution_count": 4,
   "id": "incorrect-removal",
   "metadata": {},
   "outputs": [],
   "source": [
    "map_dic = {0:\"a\",1:\"b\",2:\"c\"}"
   ]
  },
  {
   "cell_type": "code",
   "execution_count": 12,
   "id": "eastern-memorabilia",
   "metadata": {},
   "outputs": [],
   "source": [
    "# [ a.append(b) for a,b in zip(X,[map_dic[each] for each in np.random.choice([0,1,2],size=n)])]\n"
   ]
  },
  {
   "cell_type": "code",
   "execution_count": 177,
   "id": "respiratory-newsletter",
   "metadata": {},
   "outputs": [],
   "source": [
    "beta_c = np.loadtxt(\"./data/toy/beta_c1.csv\",delimiter=\",\")\n",
    "# y = np.loadtxt(\"./data/toy/y.csv\",delimiter=\",\")"
   ]
  },
  {
   "cell_type": "code",
   "execution_count": 162,
   "id": "unnecessary-denver",
   "metadata": {},
   "outputs": [],
   "source": [
    "X = np.loadtxt(\"./data/toy/X.csv\",delimiter=\",\")\n",
    "y = np.loadtxt(\"./data/toy/y.csv\",delimiter=\",\")"
   ]
  },
  {
   "cell_type": "code",
   "execution_count": 55,
   "id": "korean-morrison",
   "metadata": {},
   "outputs": [],
   "source": [
    "from sklearn.linear_model import Ridge"
   ]
  }
 ],
 "metadata": {
  "kernelspec": {
   "display_name": "Python 3",
   "language": "python",
   "name": "python3"
  },
  "language_info": {
   "codemirror_mode": {
    "name": "ipython",
    "version": 3
   },
   "file_extension": ".py",
   "mimetype": "text/x-python",
   "name": "python",
   "nbconvert_exporter": "python",
   "pygments_lexer": "ipython3",
   "version": "3.9.2"
  }
 },
 "nbformat": 4,
 "nbformat_minor": 5
}

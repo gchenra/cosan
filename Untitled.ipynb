{
 "cells": [
  {
   "cell_type": "code",
   "execution_count": 17,
   "id": "invalid-veteran",
   "metadata": {},
   "outputs": [],
   "source": [
    "import sklearn\n",
    "import numpy as np"
   ]
  },
  {
   "cell_type": "code",
   "execution_count": 73,
   "id": "latest-variable",
   "metadata": {},
   "outputs": [],
   "source": [
    "# data_dict = {\"boston\",\"iris\",\"diabetes\",\"digits\",\"linnerud\",\"wine\",\"\"}\n",
    "# X,y = sklearn.datasets.fetch_california_housing(return_X_y=True)\n",
    "np.savetxt(\"./data/toy/X.csv\", X, delimiter=\",\")\n",
    "np.savetxt(\"./data/toy/y.csv\", y, delimiter=\",\")"
   ]
  },
  {
   "cell_type": "code",
   "execution_count": 34,
   "id": "honest-tiger",
   "metadata": {},
   "outputs": [],
   "source": [
    "! mkdir ./data/california_housing"
   ]
  },
  {
   "cell_type": "code",
   "execution_count": 37,
   "id": "maritime-signal",
   "metadata": {},
   "outputs": [],
   "source": [
    "import pandas as pd"
   ]
  },
  {
   "cell_type": "code",
   "execution_count": 69,
   "id": "nearby-athletics",
   "metadata": {},
   "outputs": [],
   "source": [
    "X = np.random.rand(3,3)"
   ]
  },
  {
   "cell_type": "code",
   "execution_count": 71,
   "id": "informed-belief",
   "metadata": {},
   "outputs": [],
   "source": [
    "y = np.random.rand(3)"
   ]
  },
  {
   "cell_type": "code",
   "execution_count": 72,
   "id": "chief-slovakia",
   "metadata": {},
   "outputs": [
    {
     "data": {
      "text/plain": [
       "array([0.20434047, 0.63915935, 0.22042017])"
      ]
     },
     "execution_count": 72,
     "metadata": {},
     "output_type": "execute_result"
    }
   ],
   "source": [
    "y"
   ]
  },
  {
   "cell_type": "code",
   "execution_count": null,
   "id": "former-afghanistan",
   "metadata": {},
   "outputs": [],
   "source": []
  }
 ],
 "metadata": {
  "kernelspec": {
   "display_name": "Python 3",
   "language": "python",
   "name": "python3"
  },
  "language_info": {
   "codemirror_mode": {
    "name": "ipython",
    "version": 3
   },
   "file_extension": ".py",
   "mimetype": "text/x-python",
   "name": "python",
   "nbconvert_exporter": "python",
   "pygments_lexer": "ipython3",
   "version": "3.9.2"
  }
 },
 "nbformat": 4,
 "nbformat_minor": 5
}

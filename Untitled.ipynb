{
 "cells": [
  {
   "cell_type": "code",
   "execution_count": 2,
   "id": "absolute-laser",
   "metadata": {},
   "outputs": [],
   "source": [
    "import sklearn\n",
    "import numpy as np"
   ]
  },
  {
   "cell_type": "code",
   "execution_count": 1,
   "id": "chemical-creation",
   "metadata": {},
   "outputs": [
    {
     "ename": "NameError",
     "evalue": "name 'np' is not defined",
     "output_type": "error",
     "traceback": [
      "\u001b[0;31m---------------------------------------------------------------------------\u001b[0m",
      "\u001b[0;31mNameError\u001b[0m                                 Traceback (most recent call last)",
      "\u001b[0;32m<ipython-input-1-85411057476a>\u001b[0m in \u001b[0;36m<module>\u001b[0;34m\u001b[0m\n\u001b[1;32m      1\u001b[0m \u001b[0;31m# data_dict = {\"boston\",\"iris\",\"diabetes\",\"digits\",\"linnerud\",\"wine\",\"\"}\u001b[0m\u001b[0;34m\u001b[0m\u001b[0;34m\u001b[0m\u001b[0;34m\u001b[0m\u001b[0m\n\u001b[1;32m      2\u001b[0m \u001b[0;31m# X,y = sklearn.datasets.fetch_california_housing(return_X_y=True)\u001b[0m\u001b[0;34m\u001b[0m\u001b[0;34m\u001b[0m\u001b[0;34m\u001b[0m\u001b[0m\n\u001b[0;32m----> 3\u001b[0;31m \u001b[0mnp\u001b[0m\u001b[0;34m.\u001b[0m\u001b[0msavetxt\u001b[0m\u001b[0;34m(\u001b[0m\u001b[0;34m\"./data/toy/X_test.csv\"\u001b[0m\u001b[0;34m,\u001b[0m \u001b[0mX\u001b[0m\u001b[0;34m,\u001b[0m \u001b[0mdelimiter\u001b[0m\u001b[0;34m=\u001b[0m\u001b[0;34m\",\"\u001b[0m\u001b[0;34m)\u001b[0m\u001b[0;34m\u001b[0m\u001b[0;34m\u001b[0m\u001b[0m\n\u001b[0m\u001b[1;32m      4\u001b[0m \u001b[0mnp\u001b[0m\u001b[0;34m.\u001b[0m\u001b[0msavetxt\u001b[0m\u001b[0;34m(\u001b[0m\u001b[0;34m\"./data/toy/y_test.csv\"\u001b[0m\u001b[0;34m,\u001b[0m \u001b[0my\u001b[0m\u001b[0;34m,\u001b[0m \u001b[0mdelimiter\u001b[0m\u001b[0;34m=\u001b[0m\u001b[0;34m\",\"\u001b[0m\u001b[0;34m)\u001b[0m\u001b[0;34m\u001b[0m\u001b[0;34m\u001b[0m\u001b[0m\n",
      "\u001b[0;31mNameError\u001b[0m: name 'np' is not defined"
     ]
    }
   ],
   "source": [
    "# data_dict = {\"boston\",\"iris\",\"diabetes\",\"digits\",\"linnerud\",\"wine\",\"\"}\n",
    "# X,y = sklearn.datasets.fetch_california_housing(return_X_y=True)\n",
    "# np.savetxt(\"./data/toy/X_test.csv\", X, delimiter=\",\")\n",
    "# np.savetxt(\"./data/toy/y_test.csv\", y, delimiter=\",\")"
   ]
  },
  {
   "cell_type": "code",
   "execution_count": 25,
   "id": "sensitive-bangkok",
   "metadata": {},
   "outputs": [],
   "source": [
    "n = 10000\n",
    "p = 400\n",
    "beta = np.random.rand(p,1)\n",
    "X  = np.random.rand(n,p)\n",
    "y = X@beta"
   ]
  },
  {
   "cell_type": "code",
   "execution_count": 26,
   "id": "handmade-sleeping",
   "metadata": {},
   "outputs": [],
   "source": [
    "np.savetxt(\"./data/toy/X.csv\", X, delimiter=\",\")\n",
    "np.savetxt(\"./data/toy/y.csv\", y, delimiter=\",\")"
   ]
  },
  {
   "cell_type": "code",
   "execution_count": 27,
   "id": "final-currency",
   "metadata": {},
   "outputs": [],
   "source": [
    "beta_c = np.loadtxt(\"./data/toy/beta_c.csv\",delimiter=\",\")\n",
    "# y = np.loadtxt(\"./data/toy/y.csv\",delimiter=\",\")"
   ]
  },
  {
   "cell_type": "code",
   "execution_count": 28,
   "id": "fitted-promotion",
   "metadata": {},
   "outputs": [
    {
     "data": {
      "text/plain": [
       "7.0494574465939185e-12"
      ]
     },
     "execution_count": 28,
     "metadata": {},
     "output_type": "execute_result"
    }
   ],
   "source": [
    "np.linalg.norm(beta.reshape(-1)-beta_c)"
   ]
  },
  {
   "cell_type": "code",
   "execution_count": 34,
   "id": "vanilla-galaxy",
   "metadata": {},
   "outputs": [],
   "source": [
    "! mkdir ./data/california_housing"
   ]
  },
  {
   "cell_type": "code",
   "execution_count": 37,
   "id": "south-tuning",
   "metadata": {},
   "outputs": [],
   "source": [
    "import pandas as pd"
   ]
  },
  {
   "cell_type": "code",
   "execution_count": 69,
   "id": "unknown-promise",
   "metadata": {},
   "outputs": [],
   "source": [
    "X = np.random.rand(3,3)"
   ]
  },
  {
   "cell_type": "code",
   "execution_count": 71,
   "id": "blank-director",
   "metadata": {},
   "outputs": [],
   "source": [
    "y = np.random.rand(3)"
   ]
  },
  {
   "cell_type": "code",
   "execution_count": 72,
   "id": "boring-politics",
   "metadata": {},
   "outputs": [
    {
     "data": {
      "text/plain": [
       "array([0.20434047, 0.63915935, 0.22042017])"
      ]
     },
     "execution_count": 72,
     "metadata": {},
     "output_type": "execute_result"
    }
   ],
   "source": [
    "y"
   ]
  },
  {
   "cell_type": "code",
   "execution_count": null,
   "id": "analyzed-vegetation",
   "metadata": {},
   "outputs": [],
   "source": []
  }
 ],
 "metadata": {
  "kernelspec": {
   "display_name": "Python 3",
   "language": "python",
   "name": "python3"
  },
  "language_info": {
   "codemirror_mode": {
    "name": "ipython",
    "version": 3
   },
   "file_extension": ".py",
   "mimetype": "text/x-python",
   "name": "python",
   "nbconvert_exporter": "python",
   "pygments_lexer": "ipython3",
   "version": "3.9.2"
  }
 },
 "nbformat": 4,
 "nbformat_minor": 5
}
